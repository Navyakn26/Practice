{
 "cells": [
  {
   "cell_type": "markdown",
   "metadata": {},
   "source": [
    "# Merge  and joints using pandas"
   ]
  },
  {
   "cell_type": "code",
   "execution_count": 1,
   "metadata": {},
   "outputs": [],
   "source": [
    "import pandas as pd"
   ]
  },
  {
   "cell_type": "code",
   "execution_count": 60,
   "metadata": {},
   "outputs": [
    {
     "data": {
      "text/html": [
       "<div>\n",
       "<style scoped>\n",
       "    .dataframe tbody tr th:only-of-type {\n",
       "        vertical-align: middle;\n",
       "    }\n",
       "\n",
       "    .dataframe tbody tr th {\n",
       "        vertical-align: top;\n",
       "    }\n",
       "\n",
       "    .dataframe thead th {\n",
       "        text-align: right;\n",
       "    }\n",
       "</style>\n",
       "<table border=\"1\" class=\"dataframe\">\n",
       "  <thead>\n",
       "    <tr style=\"text-align: right;\">\n",
       "      <th></th>\n",
       "      <th>Name</th>\n",
       "      <th>Registered_Id</th>\n",
       "      <th>Job_Role</th>\n",
       "    </tr>\n",
       "  </thead>\n",
       "  <tbody>\n",
       "    <tr>\n",
       "      <th>0</th>\n",
       "      <td>Swathi</td>\n",
       "      <td>1</td>\n",
       "      <td>Assistant</td>\n",
       "    </tr>\n",
       "    <tr>\n",
       "      <th>1</th>\n",
       "      <td>Swetha</td>\n",
       "      <td>2</td>\n",
       "      <td>Teamlead</td>\n",
       "    </tr>\n",
       "    <tr>\n",
       "      <th>2</th>\n",
       "      <td>Swapana</td>\n",
       "      <td>3</td>\n",
       "      <td>Consultant</td>\n",
       "    </tr>\n",
       "    <tr>\n",
       "      <th>3</th>\n",
       "      <td>Srinidhi</td>\n",
       "      <td>4</td>\n",
       "      <td>Manager</td>\n",
       "    </tr>\n",
       "    <tr>\n",
       "      <th>4</th>\n",
       "      <td>Srilekha</td>\n",
       "      <td>5</td>\n",
       "      <td>HR</td>\n",
       "    </tr>\n",
       "  </tbody>\n",
       "</table>\n",
       "</div>"
      ],
      "text/plain": [
       "       Name  Registered_Id    Job_Role\n",
       "0    Swathi              1   Assistant\n",
       "1    Swetha              2    Teamlead\n",
       "2   Swapana              3  Consultant\n",
       "3  Srinidhi              4     Manager\n",
       "4  Srilekha              5          HR"
      ]
     },
     "execution_count": 60,
     "metadata": {},
     "output_type": "execute_result"
    }
   ],
   "source": [
    "a = pd.DataFrame({\"Name\":[\"Swathi\",\"Swetha\",\"Swapana\",\"Srinidhi\",\"Srilekha\"],\"Registered_Id\":[1,2,3,4,5],\"Job_Role\":[\"Assistant\",\"Teamlead\",\"Consultant\",\"Manager\",\"HR\"]})\n",
    "a"
   ]
  },
  {
   "cell_type": "code",
   "execution_count": 61,
   "metadata": {},
   "outputs": [
    {
     "data": {
      "text/html": [
       "<div>\n",
       "<style scoped>\n",
       "    .dataframe tbody tr th:only-of-type {\n",
       "        vertical-align: middle;\n",
       "    }\n",
       "\n",
       "    .dataframe tbody tr th {\n",
       "        vertical-align: top;\n",
       "    }\n",
       "\n",
       "    .dataframe thead th {\n",
       "        text-align: right;\n",
       "    }\n",
       "</style>\n",
       "<table border=\"1\" class=\"dataframe\">\n",
       "  <thead>\n",
       "    <tr style=\"text-align: right;\">\n",
       "      <th></th>\n",
       "      <th>Name</th>\n",
       "      <th>Registered_Id</th>\n",
       "      <th>Job_Role</th>\n",
       "    </tr>\n",
       "  </thead>\n",
       "  <tbody>\n",
       "    <tr>\n",
       "      <th>0</th>\n",
       "      <td>kavya</td>\n",
       "      <td>1</td>\n",
       "      <td>Accountant</td>\n",
       "    </tr>\n",
       "    <tr>\n",
       "      <th>1</th>\n",
       "      <td>Shanthi</td>\n",
       "      <td>2</td>\n",
       "      <td>Teamlead</td>\n",
       "    </tr>\n",
       "    <tr>\n",
       "      <th>2</th>\n",
       "      <td>Vidhya</td>\n",
       "      <td>3</td>\n",
       "      <td>HR</td>\n",
       "    </tr>\n",
       "    <tr>\n",
       "      <th>3</th>\n",
       "      <td>Vimala</td>\n",
       "      <td>4</td>\n",
       "      <td>Manager</td>\n",
       "    </tr>\n",
       "    <tr>\n",
       "      <th>4</th>\n",
       "      <td>kokila</td>\n",
       "      <td>5</td>\n",
       "      <td>CEO</td>\n",
       "    </tr>\n",
       "  </tbody>\n",
       "</table>\n",
       "</div>"
      ],
      "text/plain": [
       "      Name  Registered_Id    Job_Role\n",
       "0    kavya              1  Accountant\n",
       "1  Shanthi              2    Teamlead\n",
       "2   Vidhya              3          HR\n",
       "3   Vimala              4     Manager\n",
       "4   kokila              5         CEO"
      ]
     },
     "execution_count": 61,
     "metadata": {},
     "output_type": "execute_result"
    }
   ],
   "source": [
    "b = pd.DataFrame({\"Name\":[\"kavya\",\"Shanthi\",\"Vidhya\",\"Vimala\",\"kokila\"],\"Registered_Id\":[1,2,3,4,5],\"Job_Role\":[\"Accountant\",\"Teamlead\",\"HR\",\"Manager\",\"CEO\"]})\n",
    "b"
   ]
  },
  {
   "cell_type": "code",
   "execution_count": 62,
   "metadata": {},
   "outputs": [
    {
     "data": {
      "text/html": [
       "<div>\n",
       "<style scoped>\n",
       "    .dataframe tbody tr th:only-of-type {\n",
       "        vertical-align: middle;\n",
       "    }\n",
       "\n",
       "    .dataframe tbody tr th {\n",
       "        vertical-align: top;\n",
       "    }\n",
       "\n",
       "    .dataframe thead th {\n",
       "        text-align: right;\n",
       "    }\n",
       "</style>\n",
       "<table border=\"1\" class=\"dataframe\">\n",
       "  <thead>\n",
       "    <tr style=\"text-align: right;\">\n",
       "      <th></th>\n",
       "      <th>Name_x</th>\n",
       "      <th>Registered_Id</th>\n",
       "      <th>Job_Role_x</th>\n",
       "      <th>Name_y</th>\n",
       "      <th>Job_Role_y</th>\n",
       "    </tr>\n",
       "  </thead>\n",
       "  <tbody>\n",
       "    <tr>\n",
       "      <th>0</th>\n",
       "      <td>Swathi</td>\n",
       "      <td>1</td>\n",
       "      <td>Assistant</td>\n",
       "      <td>kavya</td>\n",
       "      <td>Accountant</td>\n",
       "    </tr>\n",
       "    <tr>\n",
       "      <th>1</th>\n",
       "      <td>Swetha</td>\n",
       "      <td>2</td>\n",
       "      <td>Teamlead</td>\n",
       "      <td>Shanthi</td>\n",
       "      <td>Teamlead</td>\n",
       "    </tr>\n",
       "    <tr>\n",
       "      <th>2</th>\n",
       "      <td>Swapana</td>\n",
       "      <td>3</td>\n",
       "      <td>Consultant</td>\n",
       "      <td>Vidhya</td>\n",
       "      <td>HR</td>\n",
       "    </tr>\n",
       "    <tr>\n",
       "      <th>3</th>\n",
       "      <td>Srinidhi</td>\n",
       "      <td>4</td>\n",
       "      <td>Manager</td>\n",
       "      <td>Vimala</td>\n",
       "      <td>Manager</td>\n",
       "    </tr>\n",
       "    <tr>\n",
       "      <th>4</th>\n",
       "      <td>Srilekha</td>\n",
       "      <td>5</td>\n",
       "      <td>HR</td>\n",
       "      <td>kokila</td>\n",
       "      <td>CEO</td>\n",
       "    </tr>\n",
       "  </tbody>\n",
       "</table>\n",
       "</div>"
      ],
      "text/plain": [
       "     Name_x  Registered_Id  Job_Role_x   Name_y  Job_Role_y\n",
       "0    Swathi              1   Assistant    kavya  Accountant\n",
       "1    Swetha              2    Teamlead  Shanthi    Teamlead\n",
       "2   Swapana              3  Consultant   Vidhya          HR\n",
       "3  Srinidhi              4     Manager   Vimala     Manager\n",
       "4  Srilekha              5          HR   kokila         CEO"
      ]
     },
     "execution_count": 62,
     "metadata": {},
     "output_type": "execute_result"
    }
   ],
   "source": [
    "# Merge\n",
    "pd.merge(a,b,on=\"Registered_Id\")\n"
   ]
  },
  {
   "cell_type": "code",
   "execution_count": 63,
   "metadata": {},
   "outputs": [
    {
     "data": {
      "text/html": [
       "<div>\n",
       "<style scoped>\n",
       "    .dataframe tbody tr th:only-of-type {\n",
       "        vertical-align: middle;\n",
       "    }\n",
       "\n",
       "    .dataframe tbody tr th {\n",
       "        vertical-align: top;\n",
       "    }\n",
       "\n",
       "    .dataframe thead th {\n",
       "        text-align: right;\n",
       "    }\n",
       "</style>\n",
       "<table border=\"1\" class=\"dataframe\">\n",
       "  <thead>\n",
       "    <tr style=\"text-align: right;\">\n",
       "      <th></th>\n",
       "      <th>Name_x</th>\n",
       "      <th>Registered_Id</th>\n",
       "      <th>Job_Role</th>\n",
       "      <th>Name_y</th>\n",
       "    </tr>\n",
       "  </thead>\n",
       "  <tbody>\n",
       "    <tr>\n",
       "      <th>0</th>\n",
       "      <td>Swetha</td>\n",
       "      <td>2</td>\n",
       "      <td>Teamlead</td>\n",
       "      <td>Shanthi</td>\n",
       "    </tr>\n",
       "    <tr>\n",
       "      <th>1</th>\n",
       "      <td>Srinidhi</td>\n",
       "      <td>4</td>\n",
       "      <td>Manager</td>\n",
       "      <td>Vimala</td>\n",
       "    </tr>\n",
       "  </tbody>\n",
       "</table>\n",
       "</div>"
      ],
      "text/plain": [
       "     Name_x  Registered_Id  Job_Role   Name_y\n",
       "0    Swetha              2  Teamlead  Shanthi\n",
       "1  Srinidhi              4   Manager   Vimala"
      ]
     },
     "execution_count": 63,
     "metadata": {},
     "output_type": "execute_result"
    }
   ],
   "source": [
    "#Merge Two DataFrames on Multiple Keys\n",
    "pd.merge(a,b,on = [\"Registered_Id\",\"Job_Role\"])"
   ]
  },
  {
   "cell_type": "markdown",
   "metadata": {},
   "source": [
    "## Left Join"
   ]
  },
  {
   "cell_type": "code",
   "execution_count": 68,
   "metadata": {},
   "outputs": [
    {
     "name": "stdout",
     "output_type": "stream",
     "text": [
      "     Name_x  Registered_Id_x    Job_Role   Name_y  Registered_Id_y\n",
      "0    Swathi                1   Assistant      NaN              NaN\n",
      "1    Swetha                2    Teamlead  Shanthi              2.0\n",
      "2   Swapana                3  Consultant      NaN              NaN\n",
      "3  Srinidhi                4     Manager   Vimala              4.0\n",
      "4  Srilekha                5          HR   Vidhya              3.0\n"
     ]
    }
   ],
   "source": [
    "print(pd.merge(a,b, on='Job_Role', how='left'))\n"
   ]
  },
  {
   "cell_type": "markdown",
   "metadata": {},
   "source": [
    "## Right Join"
   ]
  },
  {
   "cell_type": "code",
   "execution_count": 69,
   "metadata": {},
   "outputs": [
    {
     "name": "stdout",
     "output_type": "stream",
     "text": [
      "     Name_x  Registered_Id_x    Job_Role   Name_y  Registered_Id_y\n",
      "0       NaN              NaN  Accountant    kavya                1\n",
      "1    Swetha              2.0    Teamlead  Shanthi                2\n",
      "2  Srilekha              5.0          HR   Vidhya                3\n",
      "3  Srinidhi              4.0     Manager   Vimala                4\n",
      "4       NaN              NaN         CEO   kokila                5\n"
     ]
    }
   ],
   "source": [
    "print(pd.merge(a,b, on='Job_Role', how='right'))"
   ]
  },
  {
   "cell_type": "markdown",
   "metadata": {},
   "source": [
    "## Outer Join"
   ]
  },
  {
   "cell_type": "code",
   "execution_count": 70,
   "metadata": {},
   "outputs": [
    {
     "name": "stdout",
     "output_type": "stream",
     "text": [
      "     Name_x  Registered_Id_x    Job_Role   Name_y  Registered_Id_y\n",
      "0    Swathi              1.0   Assistant      NaN              NaN\n",
      "1    Swetha              2.0    Teamlead  Shanthi              2.0\n",
      "2   Swapana              3.0  Consultant      NaN              NaN\n",
      "3  Srinidhi              4.0     Manager   Vimala              4.0\n",
      "4  Srilekha              5.0          HR   Vidhya              3.0\n",
      "5       NaN              NaN  Accountant    kavya              1.0\n",
      "6       NaN              NaN         CEO   kokila              5.0\n"
     ]
    }
   ],
   "source": [
    "print(pd.merge(a,b, on='Job_Role', how='outer'))"
   ]
  },
  {
   "cell_type": "markdown",
   "metadata": {},
   "source": [
    "## Inner Join"
   ]
  },
  {
   "cell_type": "code",
   "execution_count": 71,
   "metadata": {},
   "outputs": [
    {
     "name": "stdout",
     "output_type": "stream",
     "text": [
      "     Name_x  Registered_Id_x  Job_Role   Name_y  Registered_Id_y\n",
      "0    Swetha                2  Teamlead  Shanthi                2\n",
      "1  Srinidhi                4   Manager   Vimala                4\n",
      "2  Srilekha                5        HR   Vidhya                3\n"
     ]
    }
   ],
   "source": [
    "print(pd.merge(a,b, on='Job_Role', how='inner'))"
   ]
  },
  {
   "cell_type": "code",
   "execution_count": null,
   "metadata": {},
   "outputs": [],
   "source": []
  }
 ],
 "metadata": {
  "kernelspec": {
   "display_name": "Python 3",
   "language": "python",
   "name": "python3"
  },
  "language_info": {
   "codemirror_mode": {
    "name": "ipython",
    "version": 3
   },
   "file_extension": ".py",
   "mimetype": "text/x-python",
   "name": "python",
   "nbconvert_exporter": "python",
   "pygments_lexer": "ipython3",
   "version": "3.8.5"
  }
 },
 "nbformat": 4,
 "nbformat_minor": 4
}
