{
 "cells": [
  {
   "cell_type": "markdown",
   "metadata": {},
   "source": [
    "# String Methods"
   ]
  },
  {
   "cell_type": "markdown",
   "metadata": {},
   "source": [
    "## 1[a]  String Capitalize"
   ]
  },
  {
   "cell_type": "code",
   "execution_count": 3,
   "metadata": {},
   "outputs": [
    {
     "data": {
      "text/plain": [
       "'Navya'"
      ]
     },
     "execution_count": 3,
     "metadata": {},
     "output_type": "execute_result"
    }
   ],
   "source": [
    "#capitalize() function returns a string with the first letter capitalized and all other characters lowercased\n",
    "\n",
    "string  = \"navya\" \n",
    "\n",
    "string.capitalize()"
   ]
  },
  {
   "cell_type": "code",
   "execution_count": 12,
   "metadata": {},
   "outputs": [
    {
     "name": "stdout",
     "output_type": "stream",
     "text": [
      "iam proud be as a Statistician\n",
      "Iam proud be as a statistician\n"
     ]
    }
   ],
   "source": [
    "\n",
    "name = \"iam proud be as a Statistician\"\n",
    "\n",
    "print(name)\n",
    "\n",
    "print(name.capitalize())# capitalized"
   ]
  },
  {
   "cell_type": "code",
   "execution_count": 14,
   "metadata": {},
   "outputs": [
    {
     "name": "stdout",
     "output_type": "stream",
     "text": [
      " 1st floor \n"
     ]
    }
   ],
   "source": [
    "# capitalizing non alphabetic first character\n",
    "\n",
    "Strng = \" 1st floor \"\n",
    "\n",
    "print(Strng.capitalize())"
   ]
  },
  {
   "cell_type": "markdown",
   "metadata": {},
   "source": [
    "## 1[b] String casefold"
   ]
  },
  {
   "cell_type": "code",
   "execution_count": 31,
   "metadata": {},
   "outputs": [
    {
     "name": "stdout",
     "output_type": "stream",
     "text": [
      "my fav dish is dosa\n"
     ]
    }
   ],
   "source": [
    "# casefold() method is an aggressive lower() method which converts strings to case folded strings for caseless matching\n",
    "\n",
    "string = \"My Fav Dish is Dosa\"\n",
    "\n",
    "print(string.casefold())"
   ]
  },
  {
   "cell_type": "code",
   "execution_count": 22,
   "metadata": {},
   "outputs": [
    {
     "name": "stdout",
     "output_type": "stream",
     "text": [
      "The Strings are not equal\n"
     ]
    }
   ],
   "source": [
    "# comparison using casefold()\n",
    "\n",
    "str1 = \"pasta\" \n",
    "\n",
    "str2 = \"maggi\"\n",
    "\n",
    "if str1.casefold()==str2.casefold():\n",
    "    print(\" The Strings are equal \")\n",
    "else:\n",
    "    print(\"The Strings are not equal\")"
   ]
  },
  {
   "cell_type": "markdown",
   "metadata": {},
   "source": [
    "## 1[c] String count"
   ]
  },
  {
   "cell_type": "code",
   "execution_count": 24,
   "metadata": {},
   "outputs": [
    {
     "name": "stdout",
     "output_type": "stream",
     "text": [
      "count of e in sentence: 3\n"
     ]
    }
   ],
   "source": [
    "#The count() method returns the number of occurrences of a substring in the given string.\n",
    "\n",
    "sentence = \" hey  there iam using what's app\"\n",
    "\n",
    "print('count of e in sentence:',sentence.count('e'))\n"
   ]
  },
  {
   "cell_type": "code",
   "execution_count": 26,
   "metadata": {},
   "outputs": [
    {
     "name": "stdout",
     "output_type": "stream",
     "text": [
      "the count is: 2\n"
     ]
    }
   ],
   "source": [
    "#Count number of occurrences of a given substring using start and end\n",
    "\n",
    "sentence = \"Hey there iam using what's app\"\n",
    "\n",
    "substring = 'e'\n",
    "\n",
    "count = sentence.count(substring,2,9)\n",
    "\n",
    "print(\"the count is:\",count)"
   ]
  },
  {
   "cell_type": "markdown",
   "metadata": {},
   "source": [
    "## 1[d] String endswith()"
   ]
  },
  {
   "cell_type": "code",
   "execution_count": 32,
   "metadata": {},
   "outputs": [
    {
     "name": "stdout",
     "output_type": "stream",
     "text": [
      "False\n"
     ]
    }
   ],
   "source": [
    "\n",
    "string = \" How Old are you? \"\n",
    "\n",
    "result = string.endswith(\"you\")\n",
    "\n",
    "print(result)\n"
   ]
  },
  {
   "cell_type": "code",
   "execution_count": 34,
   "metadata": {},
   "outputs": [
    {
     "name": "stdout",
     "output_type": "stream",
     "text": [
      "True\n"
     ]
    }
   ],
   "source": [
    "\n",
    "string = \" How Old are you? \"\n",
    "\n",
    "result = string.endswith(\"you? \")\n",
    "\n",
    "print(result)\n"
   ]
  },
  {
   "cell_type": "code",
   "execution_count": 37,
   "metadata": {},
   "outputs": [
    {
     "data": {
      "text/plain": [
       "True"
      ]
     },
     "execution_count": 37,
     "metadata": {},
     "output_type": "execute_result"
    }
   ],
   "source": [
    "\n",
    "string = \" How Old are you? \"\n",
    "\n",
    "result = string.endswith(\"you? \")\n",
    "\n",
    "result\n",
    "\n"
   ]
  },
  {
   "cell_type": "markdown",
   "metadata": {},
   "source": [
    "## 1[e] String expandtabs()"
   ]
  },
  {
   "cell_type": "code",
   "execution_count": 38,
   "metadata": {},
   "outputs": [
    {
     "name": "stdout",
     "output_type": "stream",
     "text": [
      "Have    a       good    day\n"
     ]
    }
   ],
   "source": [
    "## expandtabs() method returns a copy of string with all tab characters '\\t' replaced with whitespace characters until the next multiple of tabsize parameter\n",
    "\n",
    "string = \"Have\\ta\\tgood\\tday\"\n",
    "\n",
    "result = string.expandtabs()\n",
    "\n",
    "print(result)"
   ]
  },
  {
   "cell_type": "code",
   "execution_count": 39,
   "metadata": {},
   "outputs": [
    {
     "name": "stdout",
     "output_type": "stream",
     "text": [
      "Tabsize1: Have  a good  day\n"
     ]
    }
   ],
   "source": [
    "\n",
    "string = \"Have\\ta\\tgood\\tday\"\n",
    "\n",
    "print(\"Tabsize1:\",string.expandtabs(2))"
   ]
  },
  {
   "cell_type": "markdown",
   "metadata": {},
   "source": [
    "## 1[f] String encode()"
   ]
  },
  {
   "cell_type": "code",
   "execution_count": 41,
   "metadata": {},
   "outputs": [
    {
     "name": "stdout",
     "output_type": "stream",
     "text": [
      "This is the origina String: Have a good day\n",
      "This is encoded string: b'Have a good day'\n"
     ]
    }
   ],
   "source": [
    "#The encode() method returns an encoded version of the given string.\n",
    "\n",
    "strng = \"Have a good day\"\n",
    "\n",
    "print(\"This is the origina String:\", strng)\n",
    "\n",
    "print(\"This is encoded string:\", strng.encode())"
   ]
  },
  {
   "cell_type": "code",
   "execution_count": 42,
   "metadata": {},
   "outputs": [
    {
     "name": "stdout",
     "output_type": "stream",
     "text": [
      "The string is: morning\n",
      "The encoded version (with ignore) is: b'morning'\n",
      "The encoded version (with replace) is: b'morning'\n"
     ]
    }
   ],
   "source": [
    "string = 'morning'\n",
    "\n",
    "\n",
    "print('The string is:', string)\n",
    "\n",
    "\n",
    "print('The encoded version is:', string.encode(\"ascii\", \"ignore\"))#ignore error\n",
    "\n",
    "\n",
    "print('The encoded version is:', string.encode(\"ascii\", \"replace\"))# replace error"
   ]
  },
  {
   "cell_type": "markdown",
   "metadata": {},
   "source": [
    "## 1[e] String find()"
   ]
  },
  {
   "cell_type": "code",
   "execution_count": 44,
   "metadata": {},
   "outputs": [
    {
     "name": "stdout",
     "output_type": "stream",
     "text": [
      "20\n"
     ]
    }
   ],
   "source": [
    "#The find() method returns the index of first occurrence of the substring (if found). If not found, it returns -1.\n",
    "\n",
    "string = \" It was a beautiful morning.\"\n",
    "\n",
    "print(string.find(\"morning.\"))"
   ]
  },
  {
   "cell_type": "code",
   "execution_count": 45,
   "metadata": {},
   "outputs": [
    {
     "name": "stdout",
     "output_type": "stream",
     "text": [
      "Substring 'beautiful': 10\n"
     ]
    }
   ],
   "source": [
    "#find() With No start and end Argument\n",
    "\n",
    "string = \" It was a beautiful morning.\"\n",
    "\n",
    "result = string.find('beautiful')\n",
    "print(\"Substring 'beautiful':\", result)\n",
    "\n"
   ]
  },
  {
   "cell_type": "code",
   "execution_count": 46,
   "metadata": {},
   "outputs": [
    {
     "name": "stdout",
     "output_type": "stream",
     "text": [
      "Contains substring 'beutiful,'\n"
     ]
    }
   ],
   "source": [
    "\n",
    "string = \" It was a beautiful morning.\"\n",
    "\n",
    "if (string.find('beautiful') != -10):\n",
    "    print(\"Contains substring 'beautiful,'\")\n",
    "else:\n",
    "    print(\"Doesn't contain substring\")"
   ]
  },
  {
   "cell_type": "code",
   "execution_count": 51,
   "metadata": {},
   "outputs": [
    {
     "name": "stdout",
     "output_type": "stream",
     "text": [
      "4\n"
     ]
    }
   ],
   "source": [
    "#find() With start and end Arguments\n",
    "\n",
    "string = \" It was a beautiful morning.\"\n",
    "\n",
    "result = string.find('was',3)\n",
    "print(result)#If the substring exists inside the string, it returns the index of the first occurence of the substring.\n",
    "#If a substring doesn't exist inside the string, it returns -1.\n"
   ]
  },
  {
   "cell_type": "markdown",
   "metadata": {},
   "source": [
    "## 1[g] String format()"
   ]
  },
  {
   "cell_type": "code",
   "execution_count": 57,
   "metadata": {},
   "outputs": [
    {
     "name": "stdout",
     "output_type": "stream",
     "text": [
      "my name is navya:\n"
     ]
    }
   ],
   "source": [
    "#string format() method formats the given string into a nicer output in Python.\n",
    "\n",
    "print(\"my name is {}:\".format(\"navya\"))"
   ]
  },
  {
   "cell_type": "code",
   "execution_count": 60,
   "metadata": {},
   "outputs": [
    {
     "name": "stdout",
     "output_type": "stream",
     "text": [
      "my total percentage is 70:\n"
     ]
    }
   ],
   "source": [
    "print (\"my total percentage is {}:\".format(70))"
   ]
  },
  {
   "cell_type": "markdown",
   "metadata": {},
   "source": [
    "## 1[h] String index()"
   ]
  },
  {
   "cell_type": "code",
   "execution_count": 61,
   "metadata": {},
   "outputs": [
    {
     "data": {
      "text/plain": [
       "5"
      ]
     },
     "execution_count": 61,
     "metadata": {},
     "output_type": "execute_result"
    }
   ],
   "source": [
    "#index() method returns the index of a substring inside the string (if found). If the substring is not found, it raises an exception.\n",
    "\n",
    "string = \" It was a beautiful morning.\"\n",
    "\n",
    "result = string.index(\"a\")\n",
    "\n",
    "result"
   ]
  },
  {
   "cell_type": "code",
   "execution_count": 65,
   "metadata": {},
   "outputs": [
    {
     "name": "stdout",
     "output_type": "stream",
     "text": [
      "Substring 'was a': 4\n"
     ]
    }
   ],
   "source": [
    "string = \" It was a beautiful morning.\"\n",
    "\n",
    "result = string.index('was a')\n",
    "\n",
    "print(\"Substring 'was a':\", result)\n"
   ]
  },
  {
   "cell_type": "code",
   "execution_count": 66,
   "metadata": {},
   "outputs": [
    {
     "ename": "ValueError",
     "evalue": "substring not found",
     "output_type": "error",
     "traceback": [
      "\u001b[0;31m---------------------------------------------------------------------------\u001b[0m",
      "\u001b[0;31mValueError\u001b[0m                                Traceback (most recent call last)",
      "\u001b[0;32m<ipython-input-66-08003a33b443>\u001b[0m in \u001b[0;36m<module>\u001b[0;34m\u001b[0m\n\u001b[0;32m----> 1\u001b[0;31m \u001b[0mrslt\u001b[0m \u001b[0;34m=\u001b[0m \u001b[0mstring\u001b[0m\u001b[0;34m.\u001b[0m\u001b[0mindex\u001b[0m\u001b[0;34m(\u001b[0m\u001b[0;34m\" to\"\u001b[0m\u001b[0;34m)\u001b[0m\u001b[0;34m\u001b[0m\u001b[0;34m\u001b[0m\u001b[0m\n\u001b[0m\u001b[1;32m      2\u001b[0m \u001b[0;34m\u001b[0m\u001b[0m\n\u001b[1;32m      3\u001b[0m \u001b[0mprint\u001b[0m\u001b[0;34m(\u001b[0m\u001b[0;34m\"Substring 'to':\"\u001b[0m\u001b[0;34m,\u001b[0m \u001b[0mrslt\u001b[0m\u001b[0;34m)\u001b[0m\u001b[0;34m\u001b[0m\u001b[0;34m\u001b[0m\u001b[0m\n",
      "\u001b[0;31mValueError\u001b[0m: substring not found"
     ]
    }
   ],
   "source": [
    "rslt = string.index(\" to\")\n",
    "\n",
    "print(\"Substring 'to':\", rslt)"
   ]
  },
  {
   "cell_type": "markdown",
   "metadata": {},
   "source": [
    "## 1[i] string isalnum()"
   ]
  },
  {
   "cell_type": "code",
   "execution_count": 68,
   "metadata": {},
   "outputs": [
    {
     "data": {
      "text/plain": [
       "False"
      ]
     },
     "execution_count": 68,
     "metadata": {},
     "output_type": "execute_result"
    }
   ],
   "source": [
    "#The isalnum() method returns True if all characters in the string are alphanumeric (either alphabets or numbers). If not, it returns False.\n",
    "\n",
    "string = \" navya26@gmail.com\"\n",
    "\n",
    "result = string.isalnum()\n",
    "\n",
    "result"
   ]
  },
  {
   "cell_type": "code",
   "execution_count": 70,
   "metadata": {},
   "outputs": [
    {
     "name": "stdout",
     "output_type": "stream",
     "text": [
      "True\n"
     ]
    }
   ],
   "source": [
    "alnum = \"1234abcd\"\n",
    "\n",
    "print(alnum.isalnum())"
   ]
  },
  {
   "cell_type": "markdown",
   "metadata": {},
   "source": [
    "## 1[j] string isalpha()"
   ]
  },
  {
   "cell_type": "code",
   "execution_count": 73,
   "metadata": {},
   "outputs": [
    {
     "name": "stdout",
     "output_type": "stream",
     "text": [
      " All  characters are Alphabets\n"
     ]
    }
   ],
   "source": [
    "#The isalpha() method returns True if all characters in the string are alphabets. If not, it returns False.\n",
    "\n",
    "name = \"Navya\"\n",
    "\n",
    "if name.isalpha() == True:\n",
    "    print(\" All  characters are Alphabets\")\n",
    "else:\n",
    "    print(\" All characters are not Alphabets\")\n",
    "\n"
   ]
  },
  {
   "cell_type": "code",
   "execution_count": 75,
   "metadata": {},
   "outputs": [
    {
     "name": "stdout",
     "output_type": "stream",
     "text": [
      "True\n"
     ]
    }
   ],
   "source": [
    "\n",
    "name = \"navya\"\n",
    "\n",
    "print(name.isalpha())"
   ]
  },
  {
   "cell_type": "markdown",
   "metadata": {},
   "source": [
    "## 1[K] string isdecimal()"
   ]
  },
  {
   "cell_type": "code",
   "execution_count": 79,
   "metadata": {},
   "outputs": [
    {
     "name": "stdout",
     "output_type": "stream",
     "text": [
      "True\n"
     ]
    }
   ],
   "source": [
    "#The isdecimal() method returns True if all characters in a string are decimal characters. If not, it returns False.\n",
    "\n",
    "s = \"67890\"\n",
    "print(s.isdecimal())"
   ]
  },
  {
   "cell_type": "code",
   "execution_count": 80,
   "metadata": {},
   "outputs": [
    {
     "name": "stdout",
     "output_type": "stream",
     "text": [
      "False\n"
     ]
    }
   ],
   "source": [
    "d = \"5.688\"\n",
    "print(d.isdecimal())"
   ]
  },
  {
   "cell_type": "markdown",
   "metadata": {},
   "source": [
    "## 1[l] string isdigit()"
   ]
  },
  {
   "cell_type": "code",
   "execution_count": 83,
   "metadata": {},
   "outputs": [
    {
     "name": "stdout",
     "output_type": "stream",
     "text": [
      "True\n",
      "False\n"
     ]
    }
   ],
   "source": [
    "# isdigit() method returns True if all characters in a string are digits. \n",
    "\n",
    "str1 = \"34567\"\n",
    "print(str1.isdigit())\n",
    "\n",
    "str2 = \" sdfghjk\"\n",
    "print(str2.isdigit())"
   ]
  },
  {
   "cell_type": "markdown",
   "metadata": {},
   "source": [
    "## string isidentifier()"
   ]
  },
  {
   "cell_type": "code",
   "execution_count": 85,
   "metadata": {},
   "outputs": [
    {
     "data": {
      "text/plain": [
       "True"
      ]
     },
     "execution_count": 85,
     "metadata": {},
     "output_type": "execute_result"
    }
   ],
   "source": [
    "#isidentifier() method returns True if the string is a valid identifier in Python. If not, it returns False.\n",
    "\n",
    "x = \"google\"\n",
    "x.isidentifier()"
   ]
  },
  {
   "cell_type": "code",
   "execution_count": 86,
   "metadata": {},
   "outputs": [
    {
     "name": "stdout",
     "output_type": "stream",
     "text": [
      "False\n"
     ]
    }
   ],
   "source": [
    "x = \" goog le\"\n",
    "print(x.isidentifier())"
   ]
  },
  {
   "cell_type": "markdown",
   "metadata": {},
   "source": [
    "## String islower()"
   ]
  },
  {
   "cell_type": "code",
   "execution_count": 87,
   "metadata": {},
   "outputs": [
    {
     "name": "stdout",
     "output_type": "stream",
     "text": [
      "False\n"
     ]
    }
   ],
   "source": [
    "#The islower() method returns True if all alphabets in a string are lowercase alphabets. If the string contains at least one uppercase alphabet, it returns False.\n",
    "\n",
    "x = \"It was a beautiful morning.\"\n",
    "\n",
    "print(x.islower())"
   ]
  },
  {
   "cell_type": "code",
   "execution_count": 88,
   "metadata": {},
   "outputs": [
    {
     "name": "stdout",
     "output_type": "stream",
     "text": [
      "True\n"
     ]
    }
   ],
   "source": [
    "x = \" good morning\"\n",
    "\n",
    "print(x.islower())"
   ]
  },
  {
   "cell_type": "markdown",
   "metadata": {},
   "source": [
    "## String isnumeric()"
   ]
  },
  {
   "cell_type": "code",
   "execution_count": 89,
   "metadata": {},
   "outputs": [
    {
     "name": "stdout",
     "output_type": "stream",
     "text": [
      "True\n"
     ]
    }
   ],
   "source": [
    "#The isnumeric() method returns True if all characters in a string are numeric characters. If not, it returns False\n",
    "\n",
    "x = \"456789\"\n",
    "print(x.isnumeric())"
   ]
  },
  {
   "cell_type": "code",
   "execution_count": 90,
   "metadata": {},
   "outputs": [
    {
     "name": "stdout",
     "output_type": "stream",
     "text": [
      "False\n"
     ]
    }
   ],
   "source": [
    "s = \"4567.789\"\n",
    "print(s.isnumeric())"
   ]
  },
  {
   "cell_type": "markdown",
   "metadata": {},
   "source": [
    "## String isprintable()"
   ]
  },
  {
   "cell_type": "code",
   "execution_count": 92,
   "metadata": {},
   "outputs": [
    {
     "name": "stdout",
     "output_type": "stream",
     "text": [
      "True\n"
     ]
    }
   ],
   "source": [
    "#The isprintable() methods returns True if all characters in the string are printable or the string is empty. If not, it returns False.\n",
    "\n",
    "h = \"it was a beautiful day\"\n",
    "print(h.isprintable())"
   ]
  },
  {
   "cell_type": "code",
   "execution_count": 93,
   "metadata": {},
   "outputs": [
    {
     "name": "stdout",
     "output_type": "stream",
     "text": [
      "True\n"
     ]
    }
   ],
   "source": [
    "h = ' '\n",
    "print(h.isprintable())"
   ]
  },
  {
   "cell_type": "code",
   "execution_count": 95,
   "metadata": {},
   "outputs": [
    {
     "name": "stdout",
     "output_type": "stream",
     "text": [
      "True\n"
     ]
    }
   ],
   "source": [
    "h = '/nit was a beautiful day '\n",
    "print(h.isprintable())"
   ]
  },
  {
   "cell_type": "markdown",
   "metadata": {},
   "source": [
    "## String isspace()"
   ]
  },
  {
   "cell_type": "code",
   "execution_count": 98,
   "metadata": {},
   "outputs": [
    {
     "name": "stdout",
     "output_type": "stream",
     "text": [
      "True\n"
     ]
    }
   ],
   "source": [
    "#The isspace() method returns True if there are only whitespace characters in the string. If not, it return False.\n",
    "\n",
    "p = \"  \"\n",
    "print(p.isspace())"
   ]
  },
  {
   "cell_type": "code",
   "execution_count": 99,
   "metadata": {},
   "outputs": [
    {
     "name": "stdout",
     "output_type": "stream",
     "text": [
      "False\n"
     ]
    }
   ],
   "source": [
    "p = \"d\"\n",
    "print(p.isspace())"
   ]
  },
  {
   "cell_type": "code",
   "execution_count": 100,
   "metadata": {},
   "outputs": [
    {
     "name": "stdout",
     "output_type": "stream",
     "text": [
      "All whitespace characters\n"
     ]
    }
   ],
   "source": [
    "s = '\\t \\n'\n",
    "if s.isspace() == True:\n",
    "  print('All whitespace characters')\n",
    "else:\n",
    "  print('Contains non-whitespace characters')\n",
    "  "
   ]
  },
  {
   "cell_type": "markdown",
   "metadata": {},
   "source": [
    "## String istitle"
   ]
  },
  {
   "cell_type": "code",
   "execution_count": 101,
   "metadata": {},
   "outputs": [
    {
     "name": "stdout",
     "output_type": "stream",
     "text": [
      "False\n"
     ]
    }
   ],
   "source": [
    "#The istitle() returns True if the string is a titlecased string. If not, it returns False.\n",
    "\n",
    "x = \"it was a beautiful morning\"\n",
    "print(x.istitle())"
   ]
  },
  {
   "cell_type": "code",
   "execution_count": 105,
   "metadata": {},
   "outputs": [
    {
     "name": "stdout",
     "output_type": "stream",
     "text": [
      "Titlecased String\n"
     ]
    }
   ],
   "source": [
    "s = 'I Love Coding'\n",
    "if s.istitle() == True:\n",
    "  print('Titlecased String')\n",
    "else:\n",
    "  print('Not a Titlecased String')"
   ]
  },
  {
   "cell_type": "markdown",
   "metadata": {},
   "source": [
    "## string isupper()"
   ]
  },
  {
   "cell_type": "code",
   "execution_count": 110,
   "metadata": {},
   "outputs": [
    {
     "name": "stdout",
     "output_type": "stream",
     "text": [
      "True\n"
     ]
    }
   ],
   "source": [
    "# The string isupper() method returns whether or not all characters in a string are uppercased or not.\n",
    "\n",
    "p = \"HELLO WORLD\"\n",
    "print(p.isupper())"
   ]
  },
  {
   "cell_type": "code",
   "execution_count": 109,
   "metadata": {},
   "outputs": [
    {
     "name": "stdout",
     "output_type": "stream",
     "text": [
      "contain lowercase letter\n"
     ]
    }
   ],
   "source": [
    "s = 'I Love Coding'\n",
    "if s.isupper() == True:\n",
    "  print(' Does not contain lowercase letter.')\n",
    "else:\n",
    "  print('contain lowercase letter')"
   ]
  },
  {
   "cell_type": "markdown",
   "metadata": {},
   "source": [
    "## String join()"
   ]
  },
  {
   "cell_type": "code",
   "execution_count": 115,
   "metadata": {},
   "outputs": [
    {
     "name": "stdout",
     "output_type": "stream",
     "text": [
      " I  Love  coding\n"
     ]
    }
   ],
   "source": [
    "s = (\" I\",\"Love\",\"coding\")\n",
    "print('  '.join(s))"
   ]
  },
  {
   "cell_type": "code",
   "execution_count": 116,
   "metadata": {},
   "outputs": [
    {
     "name": "stdout",
     "output_type": "stream",
     "text": [
      " I\n",
      "Love\n",
      "coding\n"
     ]
    }
   ],
   "source": [
    "s = (\" I\",\"Love\",\"coding\")\n",
    "print('\\n'.join(s))"
   ]
  },
  {
   "cell_type": "markdown",
   "metadata": {},
   "source": [
    "## String ljust()"
   ]
  },
  {
   "cell_type": "code",
   "execution_count": 120,
   "metadata": {},
   "outputs": [
    {
     "name": "stdout",
     "output_type": "stream",
     "text": [
      " asdfghj\n"
     ]
    }
   ],
   "source": [
    "#The string ljust() method returns a left-justified string of a given minimum width.\n",
    "\n",
    "p = \" asdfghj\"\n",
    "width = 1\n",
    "print(p.ljust(width))"
   ]
  },
  {
   "cell_type": "code",
   "execution_count": 131,
   "metadata": {},
   "outputs": [
    {
     "name": "stdout",
     "output_type": "stream",
     "text": [
      "asdfghj$\n"
     ]
    }
   ],
   "source": [
    "p = \"asdfghj\"\n",
    "width = 8\n",
    "fillchair ='$'\n",
    "print(p.ljust(width,fillchair))"
   ]
  },
  {
   "cell_type": "markdown",
   "metadata": {},
   "source": [
    "## String rjust()"
   ]
  },
  {
   "cell_type": "code",
   "execution_count": 133,
   "metadata": {},
   "outputs": [
    {
     "name": "stdout",
     "output_type": "stream",
     "text": [
      " asdfghj\n"
     ]
    }
   ],
   "source": [
    "#The string rjust() method returns a right-justified string of a given minimum width.\n",
    "\n",
    "p = \" asdfghj\"\n",
    "width = 1\n",
    "print(p.rjust(width))"
   ]
  },
  {
   "cell_type": "code",
   "execution_count": 134,
   "metadata": {},
   "outputs": [
    {
     "name": "stdout",
     "output_type": "stream",
     "text": [
      "$asdfghj\n"
     ]
    }
   ],
   "source": [
    "p = \"asdfghj\"\n",
    "width = 8\n",
    "fillchair ='$'\n",
    "print(p.rjust(width,fillchair))"
   ]
  },
  {
   "cell_type": "markdown",
   "metadata": {},
   "source": [
    "## String swapcase()"
   ]
  },
  {
   "cell_type": "code",
   "execution_count": 135,
   "metadata": {},
   "outputs": [
    {
     "name": "stdout",
     "output_type": "stream",
     "text": [
      "i love coding\n"
     ]
    }
   ],
   "source": [
    "#The string swapcase() method converts all uppercase characters to lowercase and all lowercase characters to uppercase characters of the given string, and returns it.\n",
    "\n",
    "s =\"I LOVE CODING\"\n",
    "\n",
    "print(s.swapcase())    \n"
   ]
  },
  {
   "cell_type": "code",
   "execution_count": 136,
   "metadata": {},
   "outputs": [
    {
     "name": "stdout",
     "output_type": "stream",
     "text": [
      "I LOVE CODING\n"
     ]
    }
   ],
   "source": [
    "a = \"i love coding\"\n",
    "\n",
    "print(a.swapcase())    "
   ]
  },
  {
   "cell_type": "markdown",
   "metadata": {},
   "source": [
    "## String partition()\n",
    "\n"
   ]
  },
  {
   "cell_type": "code",
   "execution_count": 139,
   "metadata": {},
   "outputs": [
    {
     "name": "stdout",
     "output_type": "stream",
     "text": [
      "('I ', 'LOVE', ' CODING')\n"
     ]
    }
   ],
   "source": [
    "#The partition() method splits the string at the first occurrence of the argument string and returns a tuple containing the part the before separator, argument string and the part after the separator.\n",
    "\n",
    "a = \"I LOVE CODING\"\n",
    "print(a.partition('LOVE'))"
   ]
  },
  {
   "cell_type": "markdown",
   "metadata": {},
   "source": [
    "## string maketrans()\n"
   ]
  },
  {
   "cell_type": "code",
   "execution_count": 140,
   "metadata": {},
   "outputs": [
    {
     "name": "stdout",
     "output_type": "stream",
     "text": [
      "{107: '1', 108: '4', 109: '7'}\n"
     ]
    }
   ],
   "source": [
    "#The string maketrans() method returns a mapping table for translation usable for translate() method.\n",
    "\n",
    "d = {\"k\": \"1\", \"l\": \"4\", \"m\": \"7\"}\n",
    "\n",
    "string = \"klm\"\n",
    "\n",
    "print(string.maketrans(d))\n",
    "\n"
   ]
  },
  {
   "cell_type": "markdown",
   "metadata": {},
   "source": [
    "## String split()"
   ]
  },
  {
   "cell_type": "code",
   "execution_count": 141,
   "metadata": {},
   "outputs": [
    {
     "name": "stdout",
     "output_type": "stream",
     "text": [
      "['i', 'love', 'coding']\n"
     ]
    }
   ],
   "source": [
    "#The split() method breaks up a string at the specified separator and returns a list of strings.\n",
    "\n",
    "a = \"i love coding\"\n",
    "\n",
    "print(a.split(\" \"))"
   ]
  },
  {
   "cell_type": "markdown",
   "metadata": {},
   "source": [
    "## String splitline()"
   ]
  },
  {
   "cell_type": "code",
   "execution_count": 148,
   "metadata": {},
   "outputs": [
    {
     "name": "stdout",
     "output_type": "stream",
     "text": [
      "['Inueron', 'is', 'best', 'online', 'teaching', 'platform']\n"
     ]
    }
   ],
   "source": [
    "#The splitlines() method splits the string at line breaks and returns a list of lines in the string.\n",
    "\n",
    "a = \"Inueron\\nis\\nbest\\nonline\\nteaching\\nplatform\"\n",
    "\n",
    "print(a.splitlines())"
   ]
  },
  {
   "cell_type": "code",
   "execution_count": null,
   "metadata": {},
   "outputs": [],
   "source": [
    "b"
   ]
  },
  {
   "cell_type": "markdown",
   "metadata": {},
   "source": [
    "## String zfill()"
   ]
  },
  {
   "cell_type": "code",
   "execution_count": 152,
   "metadata": {},
   "outputs": [
    {
     "name": "stdout",
     "output_type": "stream",
     "text": [
      "0000Iphone\n"
     ]
    }
   ],
   "source": [
    "#The zfill() method returns a copy of the string with '0' characters padded to the left.\n",
    "a = \"Iphone\"\n",
    "print(a.zfill(10))"
   ]
  },
  {
   "cell_type": "code",
   "execution_count": 154,
   "metadata": {},
   "outputs": [
    {
     "name": "stdout",
     "output_type": "stream",
     "text": [
      "+0000000000000234567\n"
     ]
    }
   ],
   "source": [
    "b = \"+234567\"\n",
    "print(b.zfill(20))"
   ]
  },
  {
   "cell_type": "markdown",
   "metadata": {},
   "source": [
    "## String format_map()"
   ]
  },
  {
   "cell_type": "code",
   "execution_count": 153,
   "metadata": {},
   "outputs": [
    {
     "name": "stdout",
     "output_type": "stream",
     "text": [
      "34 56\n"
     ]
    }
   ],
   "source": [
    "#The format_map() method is similar to str.format(**mapping) except that str.format(**mapping) creates a new dictionary whereas str.format_map(mapping) doesn't.\n",
    " \n",
    "p = {'a':'34','b':'56'}\n",
    "\n",
    "print('{a} {b}'.format_map(p))\n"
   ]
  }
 ],
 "metadata": {
  "kernelspec": {
   "display_name": "Python 3",
   "language": "python",
   "name": "python3"
  },
  "language_info": {
   "codemirror_mode": {
    "name": "ipython",
    "version": 3
   },
   "file_extension": ".py",
   "mimetype": "text/x-python",
   "name": "python",
   "nbconvert_exporter": "python",
   "pygments_lexer": "ipython3",
   "version": "3.8.5"
  }
 },
 "nbformat": 4,
 "nbformat_minor": 4
}
