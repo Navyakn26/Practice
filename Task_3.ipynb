{
 "cells": [
  {
   "cell_type": "markdown",
   "metadata": {},
   "source": [
    "## Data Structures"
   ]
  },
  {
   "cell_type": "markdown",
   "metadata": {},
   "source": [
    "There are Two Types of Data structures\n",
    "1. Primitive Data structures : Integer,Float,String,Boolean\n",
    "2. Non-primitive Data Structures : a) Built-In b) User-Defined\n",
    "\n",
    "a) Built-In : Tuples, Dictonary, Set, List\n",
    "\n",
    "b) User-Defined : Stack, Queue, Linked-List, Tree"
   ]
  },
  {
   "cell_type": "markdown",
   "metadata": {},
   "source": [
    "## List"
   ]
  },
  {
   "cell_type": "code",
   "execution_count": 16,
   "metadata": {},
   "outputs": [
    {
     "name": "stdout",
     "output_type": "stream",
     "text": [
      "[1, 2, 3, 4]\n"
     ]
    }
   ],
   "source": [
    "list = [1,2,3,4]\n",
    "print(list)"
   ]
  },
  {
   "cell_type": "code",
   "execution_count": 17,
   "metadata": {},
   "outputs": [],
   "source": [
    "list.append(5)"
   ]
  },
  {
   "cell_type": "code",
   "execution_count": 18,
   "metadata": {},
   "outputs": [
    {
     "data": {
      "text/plain": [
       "[1, 2, 3, 4, 5]"
      ]
     },
     "execution_count": 18,
     "metadata": {},
     "output_type": "execute_result"
    }
   ],
   "source": [
    "list"
   ]
  },
  {
   "cell_type": "code",
   "execution_count": 19,
   "metadata": {},
   "outputs": [],
   "source": [
    "list.insert(5,6)"
   ]
  },
  {
   "cell_type": "code",
   "execution_count": 20,
   "metadata": {},
   "outputs": [
    {
     "data": {
      "text/plain": [
       "[1, 2, 3, 4, 5, 6]"
      ]
     },
     "execution_count": 20,
     "metadata": {},
     "output_type": "execute_result"
    }
   ],
   "source": [
    " list"
   ]
  },
  {
   "cell_type": "code",
   "execution_count": 22,
   "metadata": {},
   "outputs": [
    {
     "data": {
      "text/plain": [
       "['Vimala', 'Navya', 'Kavya', 'shanthi', 'Vidya', 'Megha']"
      ]
     },
     "execution_count": 22,
     "metadata": {},
     "output_type": "execute_result"
    }
   ],
   "source": [
    "list1 = [\"Vimala\",\"Navya\",\"Kavya\"]\n",
    "list2 = [\"shanthi\",\"Vidya\",\"Megha\"]\n",
    "list1.extend(list2)\n",
    "list1"
   ]
  },
  {
   "cell_type": "code",
   "execution_count": 65,
   "metadata": {},
   "outputs": [
    {
     "name": "stdout",
     "output_type": "stream",
     "text": [
      "\n",
      "blank list:  []\n",
      "\n",
      "list after using append:  [1, 2, 3]\n",
      "\n",
      "list after using insert:  [1, 2, 3, 'Hello']\n",
      "\n",
      "list after using extend:  [1, 2, 3, 'Hello', 'W', 'o', 'r', 'l', 'd']\n",
      "\n",
      "list after using pop:  d\n",
      "[1, 2, 3, 'W', 'o', 'r']\n",
      "[]\n"
     ]
    }
   ],
   "source": [
    "# Creating a list\n",
    "list = []\n",
    "print(\"\\nblank list: \",list)\n",
    "\n",
    "# append\n",
    "list.append(1)\n",
    "list.append(2)\n",
    "list.append(3)\n",
    "print(\"\\nlist after using append: \",list)\n",
    "\n",
    "# Insert\n",
    "list.insert(4,\"Hello\")\n",
    "print(\"\\nlist after using insert: \",list)\n",
    "\n",
    "# Extend\n",
    "list.extend(\"World\")\n",
    "print (\"\\nlist after using extend: \",list)\n",
    "\n",
    "#pop\n",
    "list.pop(7)\n",
    "print('\\nlist after using pop: ',list.pop(7))\n",
    "\n",
    "\n",
    "#remove\n",
    "list.remove(\"Hello\")\n",
    "print(list)\n",
    "\n",
    "##clear\n",
    "list.clear()\n",
    "print(list)\n",
    "\n",
    "\n",
    "\n"
   ]
  },
  {
   "cell_type": "markdown",
   "metadata": {},
   "source": [
    "## Tuples"
   ]
  },
  {
   "cell_type": "markdown",
   "metadata": {},
   "source": [
    "Tuple is a collection of Python objects much like a list. The sequence of values stored in a tuple can be of any type, and they are indexed by integers. "
   ]
  },
  {
   "cell_type": "code",
   "execution_count": 68,
   "metadata": {},
   "outputs": [
    {
     "name": "stdout",
     "output_type": "stream",
     "text": [
      " empty Tuple: \n",
      "()\n",
      "\n",
      "Tuple with the use of String: \n",
      "('MaCBook Air', 'MaCBook Pro')\n",
      "\n",
      "Tuple using List: \n",
      "(1, 2, 2, 4, 5)\n",
      "\n",
      "Tuple with the use of function: \n",
      "(1, 2, 2, 4, 5)\n"
     ]
    }
   ],
   "source": [
    "#Creating a Tuple\n",
    "tuple1 = ()\n",
    "print(\" empty Tuple: \")\n",
    "print (tuple1)\n",
    " \n",
    "#Creating a Tuple\n",
    "#with the use of string\n",
    "tuple1 = ('MaCBook Air', 'MaCBook Pro')\n",
    "print(\"\\nTuple with the use of String: \")\n",
    "print(tuple1)\n",
    " \n",
    "# Creating a Tuple with\n",
    "# the use of list\n",
    "list1 = [1, 2,2,4, 5]\n",
    "print(\"\\nTuple using List: \")\n",
    "print(tuple(list1))\n",
    " \n",
    "#Creating a Tuple\n",
    "#with the use of built-in function\n",
    "tuple1 = tuple(list1)\n",
    "print(\"\\nTuple with the use of function: \")\n",
    "print(tuple1)\n"
   ]
  },
  {
   "cell_type": "code",
   "execution_count": 71,
   "metadata": {},
   "outputs": [
    {
     "data": {
      "text/plain": [
       "3"
      ]
     },
     "execution_count": 71,
     "metadata": {},
     "output_type": "execute_result"
    }
   ],
   "source": [
    "# Tuple count\n",
    "tuple1.count(2)\n",
    "\n",
    "# Tuple Index\n",
    "tuple1.index(4)"
   ]
  },
  {
   "cell_type": "code",
   "execution_count": 72,
   "metadata": {},
   "outputs": [
    {
     "name": "stdout",
     "output_type": "stream",
     "text": [
      "('Google', 200)\n",
      "('SBI', 400)\n",
      "('TCS', 300)\n"
     ]
    }
   ],
   "source": [
    "stock_prices = [(\"Google\",200),(\"SBI\",400),(\"TCS\",300)]\n",
    "for i in stock_prices:\n",
    "    print(i)"
   ]
  },
  {
   "cell_type": "code",
   "execution_count": 73,
   "metadata": {},
   "outputs": [
    {
     "name": "stdout",
     "output_type": "stream",
     "text": [
      "Google\n",
      "SBI\n",
      "TCS\n"
     ]
    }
   ],
   "source": [
    "for ticker,prices in stock_prices:\n",
    "    print(ticker)"
   ]
  },
  {
   "cell_type": "markdown",
   "metadata": {},
   "source": [
    "## Set"
   ]
  },
  {
   "cell_type": "markdown",
   "metadata": {},
   "source": [
    "Python, Set is an unordered collection of data type that is iterable, mutable and has no duplicate elements"
   ]
  },
  {
   "cell_type": "code",
   "execution_count": 76,
   "metadata": {},
   "outputs": [
    {
     "name": "stdout",
     "output_type": "stream",
     "text": [
      "\n",
      "Set with the use of Numbers: \n",
      "{1, 2, 3, 4, 5, 6}\n",
      "\n",
      "Set with the use of Mixed Values\n",
      "{1, 2, 4, 6, 'World', 'Hello'}\n"
     ]
    }
   ],
   "source": [
    "set1 = set([1, 2, 4, 4, 3, 3, 3, 6, 5])\n",
    "print(\"\\nSet with the use of Numbers: \")\n",
    "print(set1)\n",
    " \n",
    "# Creating a Set with\n",
    "# a mixed type of values\n",
    "# (Having numbers and strings)\n",
    "set1 = set([1, 2, 'Hello', 4, 6, 'World'])\n",
    "print(\"\\nSet with the use of Mixed Values\")\n",
    "print(set1)"
   ]
  },
  {
   "cell_type": "code",
   "execution_count": 85,
   "metadata": {},
   "outputs": [
    {
     "name": "stdout",
     "output_type": "stream",
     "text": [
      "union of two sets : {1, 2, 3, 4, 5}\n",
      "updating elements to a set:  {1, 2, 3, 4, 5, 9}\n",
      "after removing 'Hello' from s2:  {3, 4, 7}\n"
     ]
    }
   ],
   "source": [
    "s1 = {1,2,3,4,5}\n",
    "s2={3,4,7,\"Hello\"}\n",
    "\n",
    "s1.union(s2) #returns union of two sets\n",
    "print(\"union of two sets :\",s1)\n",
    "s1.update([1,2,9])\n",
    "print(\"updating elements to a set: \", s1)\n",
    "s2.remove(\"Hello\")\n",
    "print(\"after removing 'Hello' from s2: \",s2)"
   ]
  },
  {
   "cell_type": "markdown",
   "metadata": {},
   "source": [
    "## Dictionary"
   ]
  },
  {
   "cell_type": "code",
   "execution_count": 1,
   "metadata": {},
   "outputs": [
    {
     "data": {
      "text/plain": [
       "dict_keys(['name', 'Id', 'email'])"
      ]
     },
     "execution_count": 1,
     "metadata": {},
     "output_type": "execute_result"
    }
   ],
   "source": [
    "employers ={\"name\": [\"Vimala\",\"Kavya\",\"Sushma\"],\n",
    "           \"Id\":[101,102,13],\n",
    "           \"email\":[\"vimala@gmail.com\",\"kavya@gmail.com\",\"sushma@gmail.com\"]}\n",
    "# keys\n",
    "employers.keys()\n"
   ]
  },
  {
   "cell_type": "code",
   "execution_count": 2,
   "metadata": {},
   "outputs": [
    {
     "data": {
      "text/plain": [
       "dict_values([['Vimala', 'Kavya', 'Sushma'], [101, 102, 13], ['vimala@gmail.com', 'kavya@gmail.com', 'sushma@gmail.com']])"
      ]
     },
     "execution_count": 2,
     "metadata": {},
     "output_type": "execute_result"
    }
   ],
   "source": [
    "#values\n",
    "employers.values()"
   ]
  },
  {
   "cell_type": "code",
   "execution_count": 6,
   "metadata": {},
   "outputs": [
    {
     "data": {
      "text/plain": [
       "['Vimala', 'Kavya', 'Sushma']"
      ]
     },
     "execution_count": 6,
     "metadata": {},
     "output_type": "execute_result"
    }
   ],
   "source": [
    "# pop\n",
    "employers.pop(\"name\")"
   ]
  },
  {
   "cell_type": "code",
   "execution_count": 7,
   "metadata": {},
   "outputs": [
    {
     "data": {
      "text/plain": [
       "{'Id': [101, 102, 13],\n",
       " 'email': ['vimala@gmail.com', 'kavya@gmail.com', 'sushma@gmail.com']}"
      ]
     },
     "execution_count": 7,
     "metadata": {},
     "output_type": "execute_result"
    }
   ],
   "source": [
    "employers"
   ]
  },
  {
   "cell_type": "code",
   "execution_count": 10,
   "metadata": {},
   "outputs": [
    {
     "data": {
      "text/plain": [
       "{'Id': [101, 102, 13],\n",
       " 'email': ['vimala@gmail.com', 'kavya@gmail.com', 'sushma@gmail.com']}"
      ]
     },
     "execution_count": 10,
     "metadata": {},
     "output_type": "execute_result"
    }
   ],
   "source": [
    "#copy\n",
    "employers.copy()"
   ]
  },
  {
   "cell_type": "code",
   "execution_count": 12,
   "metadata": {},
   "outputs": [
    {
     "data": {
      "text/plain": [
       "[101, 102, 13]"
      ]
     },
     "execution_count": 12,
     "metadata": {},
     "output_type": "execute_result"
    }
   ],
   "source": [
    "employers.get(\"Id\")"
   ]
  },
  {
   "cell_type": "code",
   "execution_count": 25,
   "metadata": {},
   "outputs": [],
   "source": [
    "names ={\"names\":[\"kavya\",\"vimala\",\"sushma\"]}"
   ]
  },
  {
   "cell_type": "code",
   "execution_count": 26,
   "metadata": {},
   "outputs": [],
   "source": [
    "#update\n",
    "employers.update(names)"
   ]
  },
  {
   "cell_type": "code",
   "execution_count": 27,
   "metadata": {},
   "outputs": [
    {
     "data": {
      "text/plain": [
       "{'Id': [101, 102, 13],\n",
       " 'email': ['vimala@gmail.com', 'kavya@gmail.com', 'sushma@gmail.com'],\n",
       " 'names': ['kavya', 'vimala', 'sushma']}"
      ]
     },
     "execution_count": 27,
     "metadata": {},
     "output_type": "execute_result"
    }
   ],
   "source": [
    "employers"
   ]
  },
  {
   "cell_type": "code",
   "execution_count": 35,
   "metadata": {},
   "outputs": [
    {
     "data": {
      "text/plain": [
       "[101, 102, 13]"
      ]
     },
     "execution_count": 35,
     "metadata": {},
     "output_type": "execute_result"
    }
   ],
   "source": [
    "\n",
    "#get\n",
    "employers.get(\"Id\")"
   ]
  },
  {
   "cell_type": "code",
   "execution_count": 36,
   "metadata": {},
   "outputs": [
    {
     "data": {
      "text/plain": [
       "{'Id': [101, 102, 13],\n",
       " 'email': ['vimala@gmail.com', 'kavya@gmail.com', 'sushma@gmail.com'],\n",
       " 'names': ['kavya', 'vimala', 'sushma']}"
      ]
     },
     "execution_count": 36,
     "metadata": {},
     "output_type": "execute_result"
    }
   ],
   "source": [
    "employers"
   ]
  },
  {
   "cell_type": "code",
   "execution_count": 40,
   "metadata": {},
   "outputs": [
    {
     "data": {
      "text/plain": [
       "dict_items([('Id', [101, 102, 13]), ('email', ['vimala@gmail.com', 'kavya@gmail.com', 'sushma@gmail.com']), ('names', ['kavya', 'vimala', 'sushma'])])"
      ]
     },
     "execution_count": 40,
     "metadata": {},
     "output_type": "execute_result"
    }
   ],
   "source": [
    "\n",
    "#items\n",
    "employers.items()"
   ]
  },
  {
   "cell_type": "code",
   "execution_count": 44,
   "metadata": {},
   "outputs": [
    {
     "data": {
      "text/plain": [
       "{'Id': [101, 102, 13],\n",
       " 'email': ['vimala@gmail.com', 'kavya@gmail.com', 'sushma@gmail.com'],\n",
       " 'names': ['kavya', 'vimala', 'sushma'],\n",
       " 'contact_no': None}"
      ]
     },
     "execution_count": 44,
     "metadata": {},
     "output_type": "execute_result"
    }
   ],
   "source": [
    "#set default\n",
    "employers.setdefault(\"contact_no\")\n",
    "employers"
   ]
  },
  {
   "cell_type": "code",
   "execution_count": 45,
   "metadata": {},
   "outputs": [
    {
     "data": {
      "text/plain": [
       "{}"
      ]
     },
     "execution_count": 45,
     "metadata": {},
     "output_type": "execute_result"
    }
   ],
   "source": [
    "#clear\n",
    "employers.clear()\n",
    "employers"
   ]
  },
  {
   "cell_type": "code",
   "execution_count": null,
   "metadata": {},
   "outputs": [],
   "source": []
  }
 ],
 "metadata": {
  "kernelspec": {
   "display_name": "Python 3",
   "language": "python",
   "name": "python3"
  },
  "language_info": {
   "codemirror_mode": {
    "name": "ipython",
    "version": 3
   },
   "file_extension": ".py",
   "mimetype": "text/x-python",
   "name": "python",
   "nbconvert_exporter": "python",
   "pygments_lexer": "ipython3",
   "version": "3.8.5"
  }
 },
 "nbformat": 4,
 "nbformat_minor": 4
}
