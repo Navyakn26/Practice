{
 "cells": [
  {
   "cell_type": "markdown",
   "metadata": {},
   "source": [
    "##  While Loop"
   ]
  },
  {
   "cell_type": "code",
   "execution_count": 13,
   "metadata": {},
   "outputs": [
    {
     "name": "stdout",
     "output_type": "stream",
     "text": [
      "hello\n",
      "hello\n",
      "hello\n",
      "hello\n",
      "hello\n"
     ]
    }
   ],
   "source": [
    "# while Loop\n",
    "count = 0\n",
    "while count < 5:\n",
    "    \n",
    "    print(\"hello\")\n",
    "    \n",
    "    count = count + 1 "
   ]
  },
  {
   "cell_type": "code",
   "execution_count": 21,
   "metadata": {},
   "outputs": [
    {
     "name": "stdout",
     "output_type": "stream",
     "text": [
      " enter a number:4\n",
      "4 X 1 = 4\n",
      "4 X 2 = 8\n",
      "4 X 3 = 12\n",
      "4 X 4 = 16\n",
      "4 X 5 = 20\n",
      "4 X 6 = 24\n",
      "4 X 7 = 28\n",
      "4 X 8 = 32\n",
      "4 X 9 = 36\n",
      "4 X 10 = 40\n"
     ]
    }
   ],
   "source": [
    "# Tabels\n",
    "number = int(input(\" enter a number:\"))\n",
    "\n",
    "count = 1\n",
    "while count <= 10:\n",
    "    \n",
    "    product = number *count\n",
    "    \n",
    "    print(number, 'X' , count,'=',product)\n",
    "    \n",
    "    count = count +1\n",
    "    \n"
   ]
  },
  {
   "cell_type": "code",
   "execution_count": 16,
   "metadata": {},
   "outputs": [],
   "source": [
    "# factorial\n",
    "def factorial(n):\n",
    "    \n",
    "    factor = 1\n",
    "    \n",
    "    while n >= 1:\n",
    "        \n",
    "        factor *= n\n",
    "        n -= 1\n",
    "        \n",
    "    return factor"
   ]
  },
  {
   "cell_type": "code",
   "execution_count": 39,
   "metadata": {},
   "outputs": [
    {
     "data": {
      "text/plain": [
       "1"
      ]
     },
     "execution_count": 39,
     "metadata": {},
     "output_type": "execute_result"
    }
   ],
   "source": [
    "factorial(0)"
   ]
  },
  {
   "cell_type": "markdown",
   "metadata": {},
   "source": [
    "## For loop\n"
   ]
  },
  {
   "cell_type": "code",
   "execution_count": 72,
   "metadata": {},
   "outputs": [
    {
     "name": "stdout",
     "output_type": "stream",
     "text": [
      "navya\n",
      "vimala\n",
      "kavya\n"
     ]
    }
   ],
   "source": [
    "## For loop\n",
    "var = [\"navya\",\"vimala\",\"kavya\"]\n",
    "for i in var:\n",
    "     print(i)\n",
    "\n"
   ]
  },
  {
   "cell_type": "code",
   "execution_count": 79,
   "metadata": {},
   "outputs": [
    {
     "name": "stdout",
     "output_type": "stream",
     "text": [
      "2\n",
      "4\n",
      "6\n",
      "8\n",
      "10\n",
      "12\n",
      "14\n",
      "16\n",
      "18\n",
      "20\n",
      "22\n",
      "24\n",
      "26\n",
      "28\n",
      "30\n",
      "32\n",
      "34\n",
      "36\n",
      "38\n",
      "40\n"
     ]
    }
   ],
   "source": [
    "for i in range(1,21):\n",
    "    print(i*2)"
   ]
  },
  {
   "cell_type": "markdown",
   "metadata": {},
   "source": [
    "## If else loop"
   ]
  },
  {
   "cell_type": "code",
   "execution_count": 1,
   "metadata": {},
   "outputs": [
    {
     "name": "stdout",
     "output_type": "stream",
     "text": [
      "enter a number:-3\n",
      "It is a negative number\n"
     ]
    }
   ],
   "source": [
    "# if else loop\n",
    "a =int(input(\"enter a number:\"))\n",
    "\n",
    "if a >=0:\n",
    "    print(\" It is a positive number\")\n",
    "    \n",
    "else:\n",
    "    \n",
    "    print(\"It is a negative number\")"
   ]
  },
  {
   "cell_type": "code",
   "execution_count": 14,
   "metadata": {},
   "outputs": [
    {
     "name": "stdout",
     "output_type": "stream",
     "text": [
      "enter a number:25\n",
      " you failed in exam\n"
     ]
    }
   ],
   "source": [
    "score = int(input(\"enter a number:\"))\n",
    "\n",
    "if score >= 45:\n",
    "    print(\"You passed the exam\")\n",
    "    \n",
    "else:\n",
    "    print(\" you failed in exam\")"
   ]
  },
  {
   "cell_type": "markdown",
   "metadata": {},
   "source": [
    "## if elif loop"
   ]
  },
  {
   "cell_type": "code",
   "execution_count": 23,
   "metadata": {},
   "outputs": [
    {
     "name": "stdout",
     "output_type": "stream",
     "text": [
      "enter a number:20\n",
      "just pass\n"
     ]
    }
   ],
   "source": [
    "# elif loop\n",
    "\n",
    "a = int(input(\"enter a number:\"))\n",
    "\n",
    "if a > 80 :\n",
    "    print(\"exellent\")\n",
    "\n",
    "elif (a >60 & a<=80) :\n",
    "    print(\" first class\")\n",
    "\n",
    "else:\n",
    "    print(\"just pass\")"
   ]
  },
  {
   "cell_type": "code",
   "execution_count": 24,
   "metadata": {},
   "outputs": [
    {
     "name": "stdout",
     "output_type": "stream",
     "text": [
      " i'm a foodie\n"
     ]
    }
   ],
   "source": [
    "h = \"food\"\n",
    "\n",
    "if h == \"drinks\":\n",
    "    print(\"it's cool!\")\n",
    "    \n",
    "elif h == \"chochlates\":\n",
    "    print(\" i donot know much..\")\n",
    "    \n",
    "else:\n",
    "    print(\" i'm a foodie\")"
   ]
  },
  {
   "cell_type": "markdown",
   "metadata": {},
   "source": [
    "## User Define Function With Out For loop, if loop"
   ]
  },
  {
   "cell_type": "code",
   "execution_count": 4,
   "metadata": {},
   "outputs": [],
   "source": [
    "# sum of two numbers\n",
    "def f(n1,n2):\n",
    "    n1 =int(input(\"enter a number: \"))\n",
    "    n2 = int(input(\"enter another number: \"))\n",
    "    print(n1+n2)\n",
    "    return\n",
    "    \n",
    "    "
   ]
  },
  {
   "cell_type": "code",
   "execution_count": 5,
   "metadata": {},
   "outputs": [
    {
     "name": "stdout",
     "output_type": "stream",
     "text": [
      "enter a number: 3\n",
      "enter another number: 4\n",
      "7\n"
     ]
    }
   ],
   "source": [
    "f(2,3)"
   ]
  },
  {
   "cell_type": "code",
   "execution_count": 22,
   "metadata": {},
   "outputs": [],
   "source": [
    "#Given 2 ints, a and b, return True if one if them is 10 or if their sum is 10.\n",
    "def makes10(a, b):\n",
    "    return(a == 10 or b == 10 or (a+b)==10)\n",
    "    "
   ]
  },
  {
   "cell_type": "code",
   "execution_count": 23,
   "metadata": {},
   "outputs": [
    {
     "data": {
      "text/plain": [
       "True"
      ]
     },
     "execution_count": 23,
     "metadata": {},
     "output_type": "execute_result"
    }
   ],
   "source": [
    "makes10(10, 20)"
   ]
  },
  {
   "cell_type": "markdown",
   "metadata": {},
   "source": [
    "## User Define Function With For loop, if loop"
   ]
  },
  {
   "cell_type": "code",
   "execution_count": 145,
   "metadata": {},
   "outputs": [
    {
     "name": "stdout",
     "output_type": "stream",
     "text": [
      "Found an even number 2\n",
      "Found an odd number 3\n",
      "Found an even number 4\n",
      "Found an odd number 5\n",
      "Found an even number 6\n",
      "Found an odd number 7\n",
      "Found an even number 8\n",
      "Found an odd number 9\n",
      "Found an even number 10\n",
      "Found an odd number 11\n",
      "Found an even number 12\n",
      "Found an odd number 13\n",
      "Found an even number 14\n",
      "Found an odd number 15\n",
      "Found an even number 16\n",
      "Found an odd number 17\n",
      "Found an even number 18\n",
      "Found an odd number 19\n"
     ]
    }
   ],
   "source": [
    "for num in range(2,20):\n",
    "...     if num % 2 == 0:\n",
    "...         print(\"Found an even number\", num)\n",
    "...         continue\n",
    "...     print(\"Found an odd number\", num)"
   ]
  },
  {
   "cell_type": "code",
   "execution_count": 159,
   "metadata": {},
   "outputs": [],
   "source": [
    "def mult():\n",
    "    n = int(input(\"enter a number: \"))\n",
    "    for i in range(1,11):\n",
    "        if i>0:\n",
    "            product = n * i      \n",
    "        print(n,\"*\",i,\"=\",product)"
   ]
  },
  {
   "cell_type": "code",
   "execution_count": 160,
   "metadata": {},
   "outputs": [
    {
     "name": "stdout",
     "output_type": "stream",
     "text": [
      "enter a number: 5\n",
      "5 * 1 = 5\n",
      "5 * 2 = 10\n",
      "5 * 3 = 15\n",
      "5 * 4 = 20\n",
      "5 * 5 = 25\n",
      "5 * 6 = 30\n",
      "5 * 7 = 35\n",
      "5 * 8 = 40\n",
      "5 * 9 = 45\n",
      "5 * 10 = 50\n"
     ]
    }
   ],
   "source": [
    "mult()"
   ]
  },
  {
   "cell_type": "markdown",
   "metadata": {},
   "source": [
    "## Break"
   ]
  },
  {
   "cell_type": "code",
   "execution_count": 11,
   "metadata": {},
   "outputs": [
    {
     "name": "stdout",
     "output_type": "stream",
     "text": [
      "1\n",
      "2\n",
      "3\n",
      "4\n",
      "5\n",
      "6\n",
      "7\n",
      "8\n",
      "9\n",
      "10\n",
      "11\n",
      "12\n",
      "13\n",
      "14\n",
      "15\n",
      "16\n",
      "17\n",
      "18\n",
      "19\n"
     ]
    }
   ],
   "source": [
    "for i in range(1,100,1):\n",
    "    if(i==20):\n",
    "        break\n",
    "    print(i)    "
   ]
  },
  {
   "cell_type": "code",
   "execution_count": 34,
   "metadata": {},
   "outputs": [
    {
     "name": "stdout",
     "output_type": "stream",
     "text": [
      "1\n",
      "2\n",
      "3\n",
      "4\n"
     ]
    }
   ],
   "source": [
    "for i in range(1,10):\n",
    "    if i >=5:\n",
    "        break\n",
    "    else:\n",
    "        print(i)\n",
    "    "
   ]
  },
  {
   "cell_type": "markdown",
   "metadata": {},
   "source": [
    "## Continue"
   ]
  },
  {
   "cell_type": "code",
   "execution_count": 68,
   "metadata": {},
   "outputs": [
    {
     "name": "stdout",
     "output_type": "stream",
     "text": [
      "N\n",
      "v\n",
      "y\n",
      "The end\n"
     ]
    }
   ],
   "source": [
    "var=\"Navya\"\n",
    "\n",
    "for val in var:\n",
    "    if val == \"a\":\n",
    "        continue\n",
    "    print(val)\n",
    "\n",
    "print(\"The end\") \n",
    "    \n",
    "        "
   ]
  },
  {
   "cell_type": "code",
   "execution_count": 70,
   "metadata": {},
   "outputs": [
    {
     "name": "stdout",
     "output_type": "stream",
     "text": [
      "Navya\n",
      "Vimala\n",
      "Kavya\n",
      "Found the name Kavya\n",
      "Kokila\n",
      "Srilekha\n",
      "Loop is Terminated\n"
     ]
    }
   ],
   "source": [
    "my_list = ['Navya', 'Vimala', 'Kavya', 'Kokila', 'Srilekha'] \n",
    "\n",
    "for i in range(len(my_list)):\n",
    "    print(my_list[i])\n",
    "    if my_list[i] == 'Kavya':\n",
    "        print('Found the name Kavya')\n",
    "        continue\n",
    "        print('After break statement')\n",
    "\n",
    "print('Loop is Terminated')"
   ]
  },
  {
   "cell_type": "markdown",
   "metadata": {},
   "source": [
    "## for loop with in operator"
   ]
  },
  {
   "cell_type": "code",
   "execution_count": 85,
   "metadata": {},
   "outputs": [
    {
     "name": "stdout",
     "output_type": "stream",
     "text": [
      "True\n",
      "True\n",
      "False\n"
     ]
    }
   ],
   "source": [
    "list1= [1,2,3,4,5]\n",
    "string1= \"My name is navya\"\n",
    "tuple1=(11,22,33,44)\n",
    "for i in list1: \n",
    "print(5 in list1) \n",
    "print(\"is\" in string1) \n",
    "print(88 in tuple1) "
   ]
  },
  {
   "cell_type": "code",
   "execution_count": 90,
   "metadata": {},
   "outputs": [
    {
     "name": "stdout",
     "output_type": "stream",
     "text": [
      "2\n",
      "4\n"
     ]
    }
   ],
   "source": [
    "a=[1, 2, 3, 4, 5]\n",
    "even=[2, 4]\n",
    "odd=[1, 3]\n",
    "for i in a:\n",
    "    if i in even :\n",
    "            print(i)"
   ]
  },
  {
   "cell_type": "markdown",
   "metadata": {},
   "source": [
    "## For loop with if statement"
   ]
  },
  {
   "cell_type": "code",
   "execution_count": 97,
   "metadata": {},
   "outputs": [
    {
     "name": "stdout",
     "output_type": "stream",
     "text": [
      "H&M\n",
      "Zara\n",
      "Levis\n"
     ]
    }
   ],
   "source": [
    "brands = [\"H&M\", \"Zara\", \"Levis\"]\n",
    "\n",
    "for brand in brands:\n",
    "    if brand == \"H&M\":\n",
    "        print(brand)\n",
    "    else:\n",
    "        print(brand)"
   ]
  },
  {
   "cell_type": "code",
   "execution_count": 115,
   "metadata": {},
   "outputs": [
    {
     "name": "stdout",
     "output_type": "stream",
     "text": [
      " This is an odd number  1\n",
      " This is an even numbers 2\n",
      " This is an odd number  3\n",
      " This is an even numbers 4\n",
      " This is an odd number  5\n",
      " This is an even numbers 6\n",
      " This is an odd number  7\n",
      " This is an even numbers 8\n",
      " This is an odd number  9\n"
     ]
    }
   ],
   "source": [
    "for i in range(1,10):\n",
    "    if i%2!=0:\n",
    "        print(\" This is an odd number \",i)\n",
    "    else:\n",
    "        i%2==0\n",
    "        print(\" This is an even numbers\",i)\n",
    "    \n",
    "    "
   ]
  },
  {
   "cell_type": "markdown",
   "metadata": {},
   "source": [
    "## For Loop With not in operator"
   ]
  },
  {
   "cell_type": "code",
   "execution_count": 121,
   "metadata": {},
   "outputs": [
    {
     "name": "stdout",
     "output_type": "stream",
     "text": [
      "List Item:  20\n",
      "List Item:  25\n",
      "List Item:  30\n"
     ]
    }
   ],
   "source": [
    "List = [5, 10, 15, 20, 25, 30]\n",
    " \n",
    "for a in List:\n",
    " \n",
    "    if not a in range(0,20):\n",
    " \n",
    "        print (\"List Item: \" ,a)"
   ]
  },
  {
   "cell_type": "code",
   "execution_count": 125,
   "metadata": {},
   "outputs": [
    {
     "name": "stdout",
     "output_type": "stream",
     "text": [
      "HR\n",
      "Developer\n",
      "Team Lead\n"
     ]
    }
   ],
   "source": [
    "employes = [\"HR\",\"Manager\",\"Developer\",\"Team Lead\"]\n",
    "for a in employes:\n",
    "    if not a in \"Manager\":\n",
    "        print(a)"
   ]
  },
  {
   "cell_type": "markdown",
   "metadata": {},
   "source": [
    "## If With in operator"
   ]
  },
  {
   "cell_type": "code",
   "execution_count": 126,
   "metadata": {},
   "outputs": [
    {
     "name": "stdout",
     "output_type": "stream",
     "text": [
      "string contains 'is'.\n"
     ]
    }
   ],
   "source": [
    "string = \"Coding is Interesting\"\n",
    "if \"is\" in string:\n",
    "    print(\"string contains substring 'is'.\")\n",
    "else:\n",
    "    print(\"It doesnot contain substring\")"
   ]
  },
  {
   "cell_type": "code",
   "execution_count": 130,
   "metadata": {},
   "outputs": [
    {
     "name": "stdout",
     "output_type": "stream",
     "text": [
      "enter a number:56\n",
      "Given number is not in the range(1,10)\n"
     ]
    }
   ],
   "source": [
    "a = int(input(\"enter a number:\"))\n",
    "if a in range(1,10):\n",
    "    print(\"This number exist in the range(1,10)\")\n",
    "else:\n",
    "    print(\"Given number is not in the range(1,10)\")"
   ]
  },
  {
   "cell_type": "markdown",
   "metadata": {},
   "source": [
    "## If With not in operator"
   ]
  },
  {
   "cell_type": "code",
   "execution_count": 133,
   "metadata": {},
   "outputs": [
    {
     "name": "stdout",
     "output_type": "stream",
     "text": [
      "string  contain substring 'manipu' .\n"
     ]
    }
   ],
   "source": [
    "string = \"Statistics is the study and manipulation of data\"\n",
    "if \"manipu\" not in string:\n",
    "    print(\"string doesnot contain substring 'manipu' .\")\n",
    "else:\n",
    "    print(\"string  contain substring 'manipu' .\")"
   ]
  },
  {
   "cell_type": "code",
   "execution_count": 163,
   "metadata": {},
   "outputs": [
    {
     "name": "stdout",
     "output_type": "stream",
     "text": [
      "No one has scored C grade in class\n"
     ]
    }
   ],
   "source": [
    "grade = [\"A\",\"A+\",\"B\",\"B+\",\"C+\"] \n",
    "if \"C\" not in grade:\n",
    "    print(\"No one has scored Such grade in class\")\n",
    "else:\n",
    "    print (\"Their is a such grade in a class \")\n",
    "    "
   ]
  },
  {
   "cell_type": "code",
   "execution_count": null,
   "metadata": {},
   "outputs": [],
   "source": []
  }
 ],
 "metadata": {
  "kernelspec": {
   "display_name": "Python 3",
   "language": "python",
   "name": "python3"
  },
  "language_info": {
   "codemirror_mode": {
    "name": "ipython",
    "version": 3
   },
   "file_extension": ".py",
   "mimetype": "text/x-python",
   "name": "python",
   "nbconvert_exporter": "python",
   "pygments_lexer": "ipython3",
   "version": "3.8.5"
  }
 },
 "nbformat": 4,
 "nbformat_minor": 4
}
